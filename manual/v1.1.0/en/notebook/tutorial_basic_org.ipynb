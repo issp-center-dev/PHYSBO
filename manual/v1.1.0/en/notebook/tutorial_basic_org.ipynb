{
 "cells": [
  {
   "cell_type": "markdown",
   "metadata": {},
   "source": [
    "# Basic usage of PHYSBO\n",
    "\n",
    "## Introduction\n",
    "\n",
    "In this tutorial, the problem of finding a stable interface structure for Cu is solved as an example. The values that have already been evaluated are used, although the evaluation of the objective function, i.e., the structural relaxation calculation, actually takes on the order of several hours per calculation. For more information on the problem setup, please refer to the following references\n",
    "\n",
    "- S. Kiyohara, H. Oda, K. Tsuda and T. Mizoguchi, “Acceleration of stable interface structure searching using a kriging approach”, Jpn. J. Appl. Phys. 55, 045502 (2016).\n",
    "\n",
    "---\n",
    "\n",
    "Let's try each step using the sample data.\n",
    "\n",
    "First, we will import PHYSBO."
   ]
  },
  {
   "cell_type": "code",
   "execution_count": 1,
   "metadata": {
    "ExecuteTime": {
     "end_time": "2020-12-04T06:02:05.943971Z",
     "start_time": "2020-12-04T06:02:05.507138Z"
    }
   },
   "outputs": [],
   "source": [
    "import physbo"
   ]
  },
  {
   "cell_type": "markdown",
   "metadata": {},
   "source": [
    "## Preparation of search candidate data\n",
    "\n",
    "First, load the data."
   ]
  },
  {
   "cell_type": "code",
   "execution_count": 2,
   "metadata": {
    "ExecuteTime": {
     "end_time": "2020-12-04T06:02:05.950047Z",
     "start_time": "2020-12-04T06:02:05.945622Z"
    }
   },
   "outputs": [],
   "source": [
    "import numpy as np\n",
    "\n",
    "def load_data():\n",
    "    A =  np.asarray(np.loadtxt('data/s5-210.csv',skiprows=1, delimiter=',') )\n",
    "    X = A[:,0:3]\n",
    "    t  = -A[:,3]\n",
    "    return X, t"
   ]
  },
  {
   "cell_type": "code",
   "execution_count": 3,
   "metadata": {
    "ExecuteTime": {
     "end_time": "2020-12-04T06:02:06.105894Z",
     "start_time": "2020-12-04T06:02:05.961463Z"
    }
   },
   "outputs": [],
   "source": [
    "X, t = load_data()"
   ]
  },
  {
   "cell_type": "markdown",
   "metadata": {},
   "source": [
    "In the following, N is defined as the number of search candidates and d is defined as the dimensionality of the input parameters.\n",
    "\n",
    "X is an N x d matrix, where each row represents a parameter set (a d-dimensional vector) for each candidate.  \n",
    "t is a vector of N dimensions, corresponding to the negative energy of each candidate (the value of the objective function to be optimized).\n",
    "Normally, when we perform Bayesian optimization, we start with only X given and t does not exist. Therefore, in actual use, the value of t can only be obtained by receiving a candidate Bayesian optimization proposal and evaluating it with a simulator. Since this is a tutorial, we will skip the calculations and give t in advance.\n",
    "\n",
    "**PHYSBO assumes that the direction of optimization is \"maximization\".**  \n",
    "\n",
    "Therefore, the original problem setting is \"energy minimization\", but when optimizing with PHYSBO, the objective function value is multiplied by a negative value and treated as a \"negative energy maximization\" problem."
   ]
  },
  {
   "cell_type": "code",
   "execution_count": 4,
   "metadata": {
    "ExecuteTime": {
     "end_time": "2020-12-04T06:02:06.115603Z",
     "start_time": "2020-12-04T06:02:06.107365Z"
    }
   },
   "outputs": [
    {
     "data": {
      "text/plain": [
       "array([[0. , 1. , 0. ],\n",
       "       [0. , 1. , 0.1],\n",
       "       [0. , 1. , 0.2],\n",
       "       ...,\n",
       "       [8. , 1.5, 3.4],\n",
       "       [8. , 1.5, 3.5],\n",
       "       [8. , 1.5, 3.6]])"
      ]
     },
     "execution_count": 4,
     "metadata": {},
     "output_type": "execute_result"
    }
   ],
   "source": [
    "X"
   ]
  },
  {
   "cell_type": "code",
   "execution_count": 5,
   "metadata": {
    "ExecuteTime": {
     "end_time": "2020-12-04T06:02:06.120704Z",
     "start_time": "2020-12-04T06:02:06.116918Z"
    }
   },
   "outputs": [
    {
     "data": {
      "text/plain": [
       "array([-1.01301176, -1.01487066, -1.02044168, ..., -1.11680203,\n",
       "       -2.48876352, -2.4971452 ])"
      ]
     },
     "execution_count": 5,
     "metadata": {},
     "output_type": "execute_result"
    }
   ],
   "source": [
    "t"
   ]
  },
  {
   "cell_type": "markdown",
   "metadata": {},
   "source": [
    "To scale the search parameters, standardize each column of X so that the mean is 0 and the variance is 1, respectively."
   ]
  },
  {
   "cell_type": "code",
   "execution_count": 6,
   "metadata": {
    "ExecuteTime": {
     "end_time": "2020-12-04T06:02:06.127129Z",
     "start_time": "2020-12-04T06:02:06.121967Z"
    }
   },
   "outputs": [],
   "source": [
    "X = physbo.misc.centering( X )"
   ]
  },
  {
   "cell_type": "code",
   "execution_count": 7,
   "metadata": {
    "ExecuteTime": {
     "end_time": "2020-12-04T06:02:06.132603Z",
     "start_time": "2020-12-04T06:02:06.129255Z"
    }
   },
   "outputs": [
    {
     "data": {
      "text/plain": [
       "array([[-1.71079785, -1.46385011, -1.68585446],\n",
       "       [-1.71079785, -1.46385011, -1.59219588],\n",
       "       [-1.71079785, -1.46385011, -1.4985373 ],\n",
       "       ...,\n",
       "       [ 1.71079785,  1.46385011,  1.4985373 ],\n",
       "       [ 1.71079785,  1.46385011,  1.59219588],\n",
       "       [ 1.71079785,  1.46385011,  1.68585446]])"
      ]
     },
     "execution_count": 7,
     "metadata": {},
     "output_type": "execute_result"
    }
   ],
   "source": [
    "X"
   ]
  },
  {
   "cell_type": "markdown",
   "metadata": {},
   "source": [
    "## Definition of simulator\n",
    "\n",
    "Define the simulator class called in PHYSBO.  \n",
    "The return value of the `__call__` method is the value of the objective function when action is given.  \n",
    "action is the ID of the search candidate (0, 1, ..., N-1). , N-1).\n",
    "\n",
    "In this tutorial, we have defined a simulator that only returns the already computed value of t when action is given.  \n",
    "Please customize the simulator class if you want to apply it to other problems."
   ]
  },
  {
   "cell_type": "code",
   "execution_count": 8,
   "metadata": {
    "ExecuteTime": {
     "end_time": "2020-12-04T06:02:06.136850Z",
     "start_time": "2020-12-04T06:02:06.134076Z"
    }
   },
   "outputs": [],
   "source": [
    "class simulator:\n",
    "    def __init__( self ):\n",
    "        _, self.t = load_data()\n",
    "    \n",
    "    def __call__( self, action ):\n",
    "        return self.t[action]"
   ]
  },
  {
   "cell_type": "markdown",
   "metadata": {},
   "source": [
    "## Performing optimization"
   ]
  },
  {
   "cell_type": "markdown",
   "metadata": {},
   "source": [
    "### Setting policy\n",
    "\n",
    "First, set the optimization `policy`.  \n",
    "\n",
    "Next, set `test_X` to the matrix of search candidates (`numpy.array`)."
   ]
  },
  {
   "cell_type": "code",
   "execution_count": 9,
   "metadata": {
    "ExecuteTime": {
     "end_time": "2020-12-04T06:02:06.149593Z",
     "start_time": "2020-12-04T06:02:06.143075Z"
    }
   },
   "outputs": [],
   "source": [
    "# set policy \n",
    "policy = physbo.search.discrete.policy(test_X=X)\n",
    "\n",
    "# set seed\n",
    "policy.set_seed(0)"
   ]
  },
  {
   "cell_type": "markdown",
   "metadata": {},
   "source": [
    "When `policy` is set, no optimization is done yet.\n",
    "Execute the following methods on `policy` to optimize it.\n",
    "\n",
    "- `random_search`.  \n",
    "- `bayes_search`.\n",
    "\n",
    "If you specify the `simulator` and the number of search steps in these methods, the following loop will be executed for the number of search steps.\n",
    "\n",
    "i) Select the next parameter to be executed from the candidate parameters.\n",
    "\n",
    "ii) Execute `simulator` with the selected parameters.\n",
    "\n",
    "The default number of parameter returned by i) is one, but it is possible to return multiple parameters in one step.\n",
    "See the section \"Searching for multiple candidates at once\" for details.  \n",
    "\n",
    "Also, instead of running the above loop inside PHYSBO, it is possible to control i) and ii) separately from the outside. In other words, it is possible to propose the next parameter to be executed from PHYSBO, evaluate its objective function value in some way outside PHYBO (e.g., by experiment rather than numerical calculation), propose it in some way outside PHYSBO, and register the evaluated value in PHYSBO. For more details, please refer to the \"Running Interactively\" section of the tutorial.\n",
    "\n",
    "### Random Search\n",
    "\n",
    "First of all, let's perform a random search.\n",
    "\n",
    "Since Bayesian optimization requires at least two objective function values to be obtained (the initial number of data required depends on the problem to be optimized and the dimension d of the parameters), we will first perform a random search.   \n",
    "\n",
    "**argument**.  \n",
    "\n",
    "- `max_num_probes`: Number of search steps.  \n",
    "- `simulator`: The simulator of the objective function (an object of class simulator). "
   ]
  },
  {
   "cell_type": "code",
   "execution_count": 10,
   "metadata": {
    "ExecuteTime": {
     "end_time": "2020-12-04T06:02:06.380266Z",
     "start_time": "2020-12-04T06:02:06.154735Z"
    },
    "scrolled": true
   },
   "outputs": [],
   "source": [
    "res = policy.random_search(max_num_probes=20, simulator=simulator())"
   ]
  },
  {
   "cell_type": "markdown",
   "metadata": {},
   "source": [
    "When executed, the objective function value and its action ID for each step, and the best value up to now and its action ID will be printed as follows.\n",
    "\n",
    "````\n",
    "0020-th step: f(x) = -1.048733 (action=1022)\n",
    "   current best f(x) = -0.963795 (best action=5734) \n",
    "````\n",
    "\n",
    "\n",
    "### Bayesian Optimization\n",
    "\n",
    "Next, we run the Bayesian optimization as follows.\n",
    "\n",
    "**argument**.  \n",
    "\n",
    "- `max_num_probes`: Number of search steps.  \n",
    "- `simulator`: The simulator of the objective function (an object of class simulator).  \n",
    "- `score`: The type of acquisition function. You can specify one of the following\n",
    "    - TS (Thompson Sampling)  \n",
    "    - EI (Expected Improvement)  \n",
    "    - PI (Probability of Improvement)  \n",
    "- `interval`:  \n",
    "The hyperparameters are trained at the specified interval.  \n",
    "If a negative value is specified, no hyperparameter will be learned.  \n",
    "0 means that hyperparameter learning will be performed only in the first step.  \n",
    "- `num_rand_basis`: Number of basis functions. 0 means that a normal Gaussian process without Bayesian linear model will be used.  "
   ]
  },
  {
   "cell_type": "code",
   "execution_count": 11,
   "metadata": {
    "ExecuteTime": {
     "end_time": "2020-12-04T06:03:19.374318Z",
     "start_time": "2020-12-04T06:02:06.382690Z"
    },
    "code_folding": [],
    "scrolled": true
   },
   "outputs": [],
   "source": [
    "res = policy.bayes_search(max_num_probes=80, simulator=simulator(), score='TS', \n",
    "                                                  interval=20, num_rand_basis=5000)"
   ]
  },
  {
   "cell_type": "markdown",
   "metadata": {},
   "source": [
    "## Checking the results\n",
    "\n",
    "The search result ``res`` is returned as an object of the ``history`` class (`physbo.search.discrete.results.history`).  \n",
    "The following is a reference to the search results.\n",
    "\n",
    "- `res.fx` : The history of evaluated values of simulator (objective function).\n",
    "- `res.chosen_actions`: The history of action IDs (parameters) when the simulator was evaluated.  \n",
    "- `fbest, best_action= res.export_all_sequence_best_fx()`: The history of best values and their action IDs (parameters) for all timings when the simulator was evaluated.\n",
    "- `res.total_num_search`: Total number of simulator evaluations.\n",
    "\n",
    "Let's plot the objective function value and the best value at each step.  \n",
    "`res.fx` and `best_fx` should range up to `res.total_num_search`, respectively."
   ]
  },
  {
   "cell_type": "code",
   "execution_count": 12,
   "metadata": {
    "ExecuteTime": {
     "end_time": "2020-12-04T06:03:19.620065Z",
     "start_time": "2020-12-04T06:03:19.375626Z"
    }
   },
   "outputs": [],
   "source": [
    "import matplotlib.pyplot as plt\n",
    "%matplotlib inline"
   ]
  },
  {
   "cell_type": "code",
   "execution_count": 13,
   "metadata": {
    "ExecuteTime": {
     "end_time": "2020-12-04T06:03:19.774131Z",
     "start_time": "2020-12-04T06:03:19.621947Z"
    }
   },
   "outputs": [
    {
     "data": {
      "text/plain": [
       "[<matplotlib.lines.Line2D at 0x7fe0d9310580>]"
      ]
     },
     "execution_count": 13,
     "metadata": {},
     "output_type": "execute_result"
    },
    {
     "data": {
      "image/png": "[encoded data removed]",
      "text/plain": [
       "<Figure size 432x288 with 1 Axes>"
      ]
     },
     "metadata": {
      "needs_background": "light"
     },
     "output_type": "display_data"
    }
   ],
   "source": [
    "plt.plot(res.fx[0:res.total_num_search])"
   ]
  },
  {
   "cell_type": "code",
   "execution_count": 14,
   "metadata": {
    "ExecuteTime": {
     "end_time": "2020-12-04T06:03:19.873280Z",
     "start_time": "2020-12-04T06:03:19.775506Z"
    }
   },
   "outputs": [
    {
     "data": {
      "text/plain": [
       "[<matplotlib.lines.Line2D at 0x7fe0d93eaaf0>]"
      ]
     },
     "execution_count": 14,
     "metadata": {},
     "output_type": "execute_result"
    },
    {
     "data": {
      "image/png": "[encoded data removed]",
      "text/plain": [
       "<Figure size 432x288 with 1 Axes>"
      ]
     },
     "metadata": {
      "needs_background": "light"
     },
     "output_type": "display_data"
    }
   ],
   "source": [
    "best_fx, best_action = res.export_all_sequence_best_fx()\n",
    "plt.plot(best_fx)"
   ]
  },
  {
   "cell_type": "markdown",
   "metadata": {},
   "source": [
    "## Serializing the results\n",
    "\n",
    "The search results can be saved to an external file using the `save` method."
   ]
  },
  {
   "cell_type": "code",
   "execution_count": 15,
   "metadata": {
    "ExecuteTime": {
     "end_time": "2020-12-04T06:03:19.880149Z",
     "start_time": "2020-12-04T06:03:19.874622Z"
    }
   },
   "outputs": [],
   "source": [
    "res.save('search_result.npz')"
   ]
  },
  {
   "cell_type": "code",
   "execution_count": 16,
   "metadata": {
    "ExecuteTime": {
     "end_time": "2020-12-04T06:03:19.883409Z",
     "start_time": "2020-12-04T06:03:19.881419Z"
    }
   },
   "outputs": [],
   "source": [
    "del res"
   ]
  },
  {
   "cell_type": "markdown",
   "metadata": {},
   "source": [
    "Load the saved result file as follows:"
   ]
  },
  {
   "cell_type": "code",
   "execution_count": 17,
   "metadata": {
    "ExecuteTime": {
     "end_time": "2020-12-04T06:03:19.892245Z",
     "start_time": "2020-12-04T06:03:19.884981Z"
    }
   },
   "outputs": [],
   "source": [
    "res = physbo.search.discrete.results.history()\n",
    "res.load('search_result.npz')"
   ]
  },
  {
   "cell_type": "code",
   "execution_count": null,
   "metadata": {},
   "outputs": [],
   "source": []
  }
 ],
 "metadata": {
  "anaconda-cloud": {},
  "kernelspec": {
   "display_name": "Python 3",
   "language": "python",
   "name": "python3"
  },
  "language_info": {
   "codemirror_mode": {
    "name": "ipython",
    "version": 3
   },
   "file_extension": ".py",
   "mimetype": "text/x-python",
   "name": "python",
   "nbconvert_exporter": "python",
   "pygments_lexer": "ipython3",
   "version": "3.6.10"
  }
 },
 "nbformat": 4,
 "nbformat_minor": 2
}
